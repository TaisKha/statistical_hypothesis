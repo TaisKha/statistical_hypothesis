{
 "cells": [
  {
   "cell_type": "code",
   "execution_count": 6,
   "metadata": {
    "scrolled": true
   },
   "outputs": [],
   "source": [
    "import scipy.special\n",
    "import scipy.stats"
   ]
  },
  {
   "cell_type": "code",
   "execution_count": null,
   "metadata": {},
   "outputs": [],
   "source": [
    "from re import findall\n",
    "from codes import codes, people\n",
    "import json\n",
    "\n",
    "with open('result.txt', 'r') as file:\n",
    " data = file.readlines()[1:]\n",
    "\n",
    "#data_sources = {int(pos): {int(ind): {} for ind in people} for pos in codes}\n",
    "data_sources = {int(pos): {int(ind): {} for ind in people} for pos in codes}\n",
    "field_names = [\n",
    "    'adenine',\n",
    "    'cytosine',\n",
    "    'guanine',\n",
    "    'thymine',\n",
    "    'var_count'\n",
    "]\n",
    "#X = []\n",
    "for i in range(len(data)//8):\n",
    "    user, position = findall('[0-9]{1,50}', data[i*8])\n",
    "    share = findall('[0-9]', data[i*8+6])\n",
    "    length = len(data_sources[int(position)][int(user)])\n",
    "    for j in range(6):\n",
    "       # data_sources[int(position)][int(user)].append(findall('[0-9]{1,10}', data[i*8+j+1])[0])\n",
    "        data_sources[int(position)][int(user)][field_names[j]] = findall('[0-9].?[0-9]{0,20}', data[i*8+j+1])[0]\n",
    "\n",
    "    # X.append((user,position))\n",
    "na = 0\n",
    "nc = 0\n",
    "ng = 0\n",
    "nt = 0\n",
    "sv1 = 0\n",
    "\n",
    "for key, value in data_sources.items():\n",
    "    #print(key, value)\n",
    "    for key1, value1 in value.items():\n",
    "        if value1.get(\"var_count\", 0) == \"1\":\n",
    "        sv1 += 1\n",
    "\n",
    "print(sv1)\n",
    "\n",
    "# with open('repeated.txt', 'w') as f:\n",
    "#     for pair in set(X):\n",
    "#         if X.count(pair) > 1:\n",
    "#             print(\"number\", pair[0], \"in position\", pair[1], \"(\", X.count(pair), \"times )\", file=f)\n",
    "\n",
    "with open('grouped_data.json','w') as file:\n",
    "    json.dump(data_sources,file)"
   ]
  },
  {
   "cell_type": "code",
   "execution_count": 3,
   "metadata": {},
   "outputs": [],
   "source": [
    "df = pd.read_json(\"grouped_data.json\")"
   ]
  },
  {
   "cell_type": "code",
   "execution_count": 5,
   "metadata": {},
   "outputs": [
    {
     "data": {
      "text/plain": [
       "20.0"
      ]
     },
     "execution_count": 5,
     "metadata": {},
     "output_type": "execute_result"
    }
   ],
   "source": [
    "scipy.special.binom(6,3)"
   ]
  },
  {
   "cell_type": "code",
   "execution_count": 12,
   "metadata": {},
   "outputs": [
    {
     "name": "stdout",
     "output_type": "stream",
     "text": [
      "True\n"
     ]
    }
   ],
   "source": [
    "n = 21855\n",
    "res = 0\n",
    "p = 0.0047719\n",
    "for i in range(16, 192):\n",
    "    res += scipy.stats.binom.pmf(i, n, p)\n",
    "print(1-res < 0.05)"
   ]
  },
  {
   "cell_type": "code",
   "execution_count": null,
   "metadata": {},
   "outputs": [],
   "source": []
  }
 ],
 "metadata": {
  "kernelspec": {
   "display_name": "Python 3",
   "language": "python",
   "name": "python3"
  },
  "language_info": {
   "codemirror_mode": {
    "name": "ipython",
    "version": 3
   },
   "file_extension": ".py",
   "mimetype": "text/x-python",
   "name": "python",
   "nbconvert_exporter": "python",
   "pygments_lexer": "ipython3",
   "version": "3.7.4"
  }
 },
 "nbformat": 4,
 "nbformat_minor": 2
}
